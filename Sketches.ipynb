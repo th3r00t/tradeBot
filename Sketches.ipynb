{
 "cells": [
  {
   "cell_type": "code",
   "execution_count": 13,
   "metadata": {},
   "outputs": [],
   "source": [
    "import sys\n",
    "import os"
   ]
  },
  {
   "cell_type": "markdown",
   "metadata": {},
   "source": [
    "Now were going to set up a csv file and begin sanitizing it"
   ]
  },
  {
   "cell_type": "code",
   "execution_count": 3,
   "metadata": {},
   "outputs": [],
   "source": [
    "csv_file = 'dumps/M5_hist_EURUSD.csv'"
   ]
  },
  {
   "cell_type": "markdown",
   "metadata": {},
   "source": [
    "And set up our analysis system"
   ]
  },
  {
   "cell_type": "code",
   "execution_count": 26,
   "metadata": {},
   "outputs": [],
   "source": [
    "def findDateTime(row):\n",
    "    import re\n",
    "    y = re.compile(\"[0-9]{4,4}\")\n",
    "    m = re.compile(\"[01-12]{2,2}\")\n",
    "    d = re.compile(\"[01-31]{2,2}\")\n",
    "    i = 0\n",
    "    if y.match(row[0]):\n",
    "        year = y.match(row[0])\n",
    "        month = m.match(row[0])\n",
    "        day = d.match(row[0])\n",
    "        print(\"Match Found %s/%s/%s\"%(year, month, day))\n",
    "    else:\n",
    "        print('No Match')\n",
    "    return\n",
    "            \n",
    "            "
   ]
  },
  {
   "cell_type": "code",
   "execution_count": 1,
   "metadata": {},
   "outputs": [],
   "source": [
    "    def analyze(self, data):\n",
    "        import csv\n",
    "        import re\n",
    "        text_input = re.compile(\"^([A-Z])\")\n",
    "        file = open(data, 'r')\n",
    "        file = csv.reader(file, delimiter=',')\n",
    "        ncol=len(next(file)) # Read first line and count columns\n",
    "        with open(data, newline='') as csvfile:\n",
    "            input = csv.reader(csvfile, delimiter=',')\n",
    "            for row in input:\n",
    "                # Check for header\n",
    "                if text_input.match(row[0]):\n",
    "                    pass\n",
    "                else:\n",
    "                    # Work on input data here\n",
    "                    _dateTime = self.findDateTime(row)\n",
    "                    _open = row[2]\n",
    "                    _high = row[3]\n",
    "                    _low = row[3]\n",
    "                    _close = row[4]\n",
    "                    _volume = row[5]\n",
    "            return"
   ]
  }
 ],
 "metadata": {
  "kernelspec": {
   "display_name": "Python 3",
   "language": "python",
   "name": "python3"
  },
  "language_info": {
   "codemirror_mode": {
    "name": "ipython",
    "version": 3
   },
   "file_extension": ".py",
   "mimetype": "text/x-python",
   "name": "python",
   "nbconvert_exporter": "python",
   "pygments_lexer": "ipython3",
   "version": "3.7.3"
  }
 },
 "nbformat": 4,
 "nbformat_minor": 4
}
